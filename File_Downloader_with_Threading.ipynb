{
  "nbformat": 4,
  "nbformat_minor": 0,
  "metadata": {
    "colab": {
      "provenance": []
    },
    "kernelspec": {
      "name": "python3",
      "display_name": "Python 3"
    },
    "language_info": {
      "name": "python"
    }
  },
  "cells": [
    {
      "cell_type": "code",
      "execution_count": null,
      "metadata": {
        "id": "E-GN1HWv9_v-"
      },
      "outputs": [],
      "source": [
        "from google.colab import drive\n",
        "drive.mount(\"/content/drive\")"
      ]
    },
    {
      "cell_type": "code",
      "source": [
        "!pip install requests\n",
        "!pip install tqdm\n",
        "from tqdm import tqdm\n",
        "import os\n",
        "import sys\n",
        "from pathlib import Path\n",
        "import requests\n",
        "import threading\n",
        "\n",
        "def download(url):\n",
        "  try:\n",
        "    filesize = int(requests.head(url).headers[\"Content-Length\"])\n",
        "    filename = os.path.basename(url)\n",
        "    print(filesize,filename)\n",
        "    home_path = Path.home()\n",
        "    home_path = \"\"\n",
        "    sub_path = \"\"\n",
        "    os.makedirs(os.path.join(home_path, sub_path), exist_ok=True)\n",
        "    dl_path = os.path.join(home_path, sub_path, filename)\n",
        "    chunk_size = 1024\n",
        "    with requests.get(url, stream=True) as r, open(dl_path, \"wb\") as f, tqdm(\n",
        "            unit=\"B\", \n",
        "            unit_scale=True,\n",
        "            unit_divisor=1024,\n",
        "            total=filesize, \n",
        "            file=sys.stdout, \n",
        "            desc=filename\n",
        "    ) as progress:\n",
        "        for chunk in r.iter_content(chunk_size=chunk_size):\n",
        "            datasize = f.write(chunk)\n",
        "            progress.update(datasize)\n",
        "  except:\n",
        "    pass"
      ],
      "metadata": {
        "id": "RgxRd-sR-FHn"
      },
      "execution_count": null,
      "outputs": []
    },
    {
      "cell_type": "code",
      "source": [
        "urls = []\n",
        "while True:\n",
        "  url = input(\"Enter file URL : \")\n",
        "  if url.lower()!=\"exit\":\n",
        "    urls.append(url)\n",
        "  else:\n",
        "    break"
      ],
      "metadata": {
        "id": "-WIe7jda-JIZ"
      },
      "execution_count": null,
      "outputs": []
    },
    {
      "cell_type": "code",
      "source": [
        "threads = []\n",
        "for i in range(len(urls)):\n",
        "    t=threading.Thread(target=download,args=[urls[i]])\n",
        "    threads.append(t)\n",
        "    t.start()\n",
        "for i in threads:\n",
        "    i.join()"
      ],
      "metadata": {
        "id": "YcN4B57b-K90"
      },
      "execution_count": null,
      "outputs": []
    }
  ]
}